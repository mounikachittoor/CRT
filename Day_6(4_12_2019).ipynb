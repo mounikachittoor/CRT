{
  "nbformat": 4,
  "nbformat_minor": 0,
  "metadata": {
    "colab": {
      "name": "Day-6(4/12/2019).ipynb",
      "provenance": [],
      "include_colab_link": true
    },
    "kernelspec": {
      "name": "python3",
      "display_name": "Python 3"
    }
  },
  "cells": [
    {
      "cell_type": "markdown",
      "metadata": {
        "id": "view-in-github",
        "colab_type": "text"
      },
      "source": [
        "<a href=\"https://colab.research.google.com/github/mounikachittoor/CRT/blob/master/Day_6(4_12_2019).ipynb\" target=\"_parent\"><img src=\"https://colab.research.google.com/assets/colab-badge.svg\" alt=\"Open In Colab\"/></a>"
      ]
    },
    {
      "cell_type": "code",
      "metadata": {
        "id": "NZTg4dGbA9uY",
        "colab_type": "code",
        "colab": {}
      },
      "source": [
        "# Accept a number nd check whether it is divisible by 3 nd 5\n",
        "x = int(input(\"enter any value\"))\n",
        "if x%3==0 and x%5==0:\n",
        "  print(\"it is divisible by 3 nd 5\")\n",
        "else:\n",
        "  print(\"not divisible\")"
      ],
      "execution_count": 0,
      "outputs": []
    },
    {
      "cell_type": "code",
      "metadata": {
        "id": "E90rgBdyCewm",
        "colab_type": "code",
        "colab": {}
      },
      "source": [
        "# Accept a number nd check whether it is +ve or -ve\n",
        "x = int(input(\"enter any value\"))\n",
        "if x == 0:\n",
        "  print(\"it is zero\")\n",
        "elif x>0:\n",
        "  print(\"it is positive\")\n",
        "else:\n",
        "  print(\"it is negative\")"
      ],
      "execution_count": 0,
      "outputs": []
    },
    {
      "cell_type": "code",
      "metadata": {
        "id": "3-BFjHo5Ecjv",
        "colab_type": "code",
        "outputId": "7c29c809-a9a4-44df-bb58-e239beba9507",
        "colab": {
          "base_uri": "https://localhost:8080/",
          "height": 51
        }
      },
      "source": [
        "# Accept age of a person nd decide if he is eligible for voting or not\n",
        "x = int(input(\"enter the age\"))\n",
        "if x>=18:\n",
        "  print(\"eligible\")\n",
        "else:\n",
        "  print(\"not eligible\")"
      ],
      "execution_count": 0,
      "outputs": [
        {
          "output_type": "stream",
          "text": [
            "enter the age18\n",
            "eligible\n"
          ],
          "name": "stdout"
        }
      ]
    },
    {
      "cell_type": "markdown",
      "metadata": {
        "id": "38aePokSGjiq",
        "colab_type": "text"
      },
      "source": [
        "#### H.W. :Accept 3 subjects marks of a student if the student gets min. 30 marks in all subs, then find avg. else print fail. If avg is >75 print A , 65-75 print B, 45-65 print C, 30-45 print D, or print fail."
      ]
    },
    {
      "cell_type": "code",
      "metadata": {
        "id": "eJuiljctHRxJ",
        "colab_type": "code",
        "outputId": "76963270-6b28-4328-905d-e0bba7087055",
        "colab": {
          "base_uri": "https://localhost:8080/",
          "height": 102
        }
      },
      "source": [
        "x = int(input(\"enter 1st sub marks\"))\n",
        "y = int(input(\"enter 2nd sub marks\"))\n",
        "z = int(input(\"enter 3rd sub marks\"))\n",
        "avg = 0\n",
        "if x >= 30 and y >= 30 and z >=30:\n",
        "  avg = avg+(x+y+z)/3\n",
        "  print(avg)\n",
        "if avg>75:\n",
        "  print(\"Grade A\")\n",
        "elif 65<avg <= 75: \n",
        "  print(\"Grade B\")\n",
        "elif 45<avg <= 65:\n",
        "  print(\"Grade C\")\n",
        "elif 30<avg <= 45:\n",
        "  print(\"Grade D\")\n",
        "else :\n",
        "  print(\"fail\")    "
      ],
      "execution_count": 0,
      "outputs": [
        {
          "output_type": "stream",
          "text": [
            "enter 1st sub marks30\n",
            "enter 2nd sub marks100\n",
            "enter 3rd sub marks100\n",
            "76.66666666666667\n",
            "Grade A\n"
          ],
          "name": "stdout"
        }
      ]
    },
    {
      "cell_type": "markdown",
      "metadata": {
        "id": "8ZrqeW0EIEZn",
        "colab_type": "text"
      },
      "source": [
        "# Loops\n",
        "\n",
        "\n",
        "1.   While (use when we dont know no. of iterations)\n",
        "2.   for   (use when we know the no. of iterations)\n",
        "   \n",
        "\n"
      ]
    },
    {
      "cell_type": "code",
      "metadata": {
        "id": "XIAi8KRTIcLu",
        "colab_type": "code",
        "outputId": "3447abcc-e09a-4f58-87c3-6d0251c58c99",
        "colab": {
          "base_uri": "https://localhost:8080/",
          "height": 51
        }
      },
      "source": [
        "# print no.s from 1 to n\n",
        "n = int(input(\"enter a value\"))\n",
        "i = 1\n",
        "while i <= n:\n",
        "  print(i,end=\" \")\n",
        "  i = i + 1       # or i+=1"
      ],
      "execution_count": 0,
      "outputs": [
        {
          "output_type": "stream",
          "text": [
            "enter a value10\n",
            "1 2 3 4 5 6 7 8 9 10 "
          ],
          "name": "stdout"
        }
      ]
    },
    {
      "cell_type": "code",
      "metadata": {
        "id": "0SSu5dlNJNjA",
        "colab_type": "code",
        "outputId": "bc33b5c8-74ff-4392-8ba1-0afbc6f9d581",
        "colab": {
          "base_uri": "https://localhost:8080/",
          "height": 51
        }
      },
      "source": [
        "# print 1 to n even no.s\n",
        "n = int(input(\"enter a number\"))\n",
        "i = 1\n",
        "while i<=n:\n",
        "  if i%2==0:\n",
        "    print(i,end=\" \")\n",
        "  i = i + 1"
      ],
      "execution_count": 0,
      "outputs": [
        {
          "output_type": "stream",
          "text": [
            "enter a number10\n",
            "2 4 6 8 10 "
          ],
          "name": "stdout"
        }
      ]
    },
    {
      "cell_type": "code",
      "metadata": {
        "id": "PwddeDwlKfyc",
        "colab_type": "code",
        "outputId": "e298b949-88c3-4bfe-ce1a-e0857ad97f07",
        "colab": {
          "base_uri": "https://localhost:8080/",
          "height": 51
        }
      },
      "source": [
        "# printing sum of all even numbers in the given range\n",
        "x = int(input(\"enter a value \"))\n",
        "i = 1\n",
        "s = 0\n",
        "while i<=x:\n",
        "  if i%2==0:\n",
        "    s=s+i\n",
        "  i = i + 1\n",
        "print(s)"
      ],
      "execution_count": 0,
      "outputs": [
        {
          "output_type": "stream",
          "text": [
            "enter a value 10\n",
            "30\n"
          ],
          "name": "stdout"
        }
      ]
    },
    {
      "cell_type": "code",
      "metadata": {
        "id": "sXBEKmWcMiaz",
        "colab_type": "code",
        "outputId": "551deed7-97e0-4dae-93b5-fc8a2c2ee93c",
        "colab": {
          "base_uri": "https://localhost:8080/",
          "height": 51
        }
      },
      "source": [
        "# extracting the digits from given no.\n",
        "# input : 546\n",
        "# output : 6 4 5\n",
        "x = int(input(\"enter the number\"))\n",
        "while x!=0:\n",
        "  print(x%10,end=\" \")\n",
        "  x = x//10"
      ],
      "execution_count": 0,
      "outputs": [
        {
          "output_type": "stream",
          "text": [
            "enter the number546\n",
            "6 4 5 "
          ],
          "name": "stdout"
        }
      ]
    },
    {
      "cell_type": "markdown",
      "metadata": {
        "id": "ZN08Pr_gRi8O",
        "colab_type": "text"
      },
      "source": [
        "#### HW\n",
        "\n",
        "1.   Given no. is palindrome or not\n",
        "2.   Given no. is amstrong or not\n",
        "3.   Find the factors"
      ]
    },
    {
      "cell_type": "code",
      "metadata": {
        "id": "vj12YHfQSs6s",
        "colab_type": "code",
        "outputId": "da5107f6-1723-4d88-b9ed-e5dac0a99419",
        "colab": {
          "base_uri": "https://localhost:8080/",
          "height": 51
        }
      },
      "source": [
        "# 1. Palindrome\n",
        "n = int(input(\"enter a number\"))\n",
        "rev = 0\n",
        "temp = n\n",
        "while n!=0:\n",
        "  r = n%10\n",
        "  rev = rev*10+r\n",
        "  n = n//10\n",
        "if rev == temp:\n",
        "  print(\"palindrome\")\n",
        "else:\n",
        "  print(\"not palindrome\")"
      ],
      "execution_count": 0,
      "outputs": [
        {
          "output_type": "stream",
          "text": [
            "enter a number1221\n",
            "palindrome\n"
          ],
          "name": "stdout"
        }
      ]
    },
    {
      "cell_type": "code",
      "metadata": {
        "id": "jcU0WamDipIr",
        "colab_type": "code",
        "outputId": "46df657d-0f30-4003-d543-941c26062f35",
        "colab": {
          "base_uri": "https://localhost:8080/",
          "height": 51
        }
      },
      "source": [
        "# 2. Armstrong\n",
        "n = int(input(\"enter a value\"))\n",
        "sum = 0\n",
        "temp = n\n",
        "while n!=0:\n",
        "  i=n%10\n",
        "  sum = sum+(i**3)\n",
        "  n=n//10\n",
        "if sum == temp:\n",
        "  print(\"amstrong\")\n",
        "else :\n",
        "  print(\"not amstrong\")   "
      ],
      "execution_count": 0,
      "outputs": [
        {
          "output_type": "stream",
          "text": [
            "enter a value370\n",
            "amstrong\n"
          ],
          "name": "stdout"
        }
      ]
    },
    {
      "cell_type": "code",
      "metadata": {
        "id": "zlTJF0LVjDrN",
        "colab_type": "code",
        "outputId": "40e47c4d-b389-4427-da0f-b75469bcb7ea",
        "colab": {
          "base_uri": "https://localhost:8080/",
          "height": 51
        }
      },
      "source": [
        "# 3. Factors\n",
        "n = int(input(\"enter a value\"))\n",
        "i = 1\n",
        "while i <= n:\n",
        "  if n%i == 0:\n",
        "    print(i, end=\" \")\n",
        "  i=i+1"
      ],
      "execution_count": 0,
      "outputs": [
        {
          "output_type": "stream",
          "text": [
            "enter a value15\n",
            "1 3 5 15 "
          ],
          "name": "stdout"
        }
      ]
    },
    {
      "cell_type": "code",
      "metadata": {
        "id": "aY9t6UcMUDP4",
        "colab_type": "code",
        "outputId": "7db0d59f-60f7-411b-f799-0bc17053a3f6",
        "colab": {
          "base_uri": "https://localhost:8080/",
          "height": 51
        }
      },
      "source": [
        "# Print 1 to n using for loop\n",
        "n = int(input(\"enter a number\"))\n",
        "for i in range(1,n+1,2):      # range is in built..if we give(1,n) it will show till n-1\n",
        "  print(i,end=\" \")       # (1,N+1,INCREASING NO.)"
      ],
      "execution_count": 0,
      "outputs": [
        {
          "output_type": "stream",
          "text": [
            "enter a number10\n",
            "1 3 5 7 9 "
          ],
          "name": "stdout"
        }
      ]
    },
    {
      "cell_type": "code",
      "metadata": {
        "id": "8iV-q9hdWJ8m",
        "colab_type": "code",
        "outputId": "902e1a47-ad3a-45b8-d3b1-2e3f6d06cfc8",
        "colab": {
          "base_uri": "https://localhost:8080/",
          "height": 51
        }
      },
      "source": [
        "# Print even no.s\n",
        "n = int(input(\"enter a number\"))\n",
        "for i in range(1,n+1):\n",
        "  if i%2==0:\n",
        "    print(i,end=\" \")"
      ],
      "execution_count": 0,
      "outputs": [
        {
          "output_type": "stream",
          "text": [
            "enter a number10\n",
            "2 4 6 8 10 "
          ],
          "name": "stdout"
        }
      ]
    },
    {
      "cell_type": "code",
      "metadata": {
        "id": "7yukF9kgXqdH",
        "colab_type": "code",
        "outputId": "8b43b629-f5b8-4655-8c53-3a79b882c613",
        "colab": {
          "base_uri": "https://localhost:8080/",
          "height": 51
        }
      },
      "source": [
        "# Sum of even no.s\n",
        "n = int(input(\"enter a number\"))\n",
        "s = 0\n",
        "for i in range(1,n+1):\n",
        "  if i%2==0:\n",
        "    s=s+i\n",
        "print(s)"
      ],
      "execution_count": 0,
      "outputs": [
        {
          "output_type": "stream",
          "text": [
            "enter a number6\n",
            "12\n"
          ],
          "name": "stdout"
        }
      ]
    },
    {
      "cell_type": "code",
      "metadata": {
        "id": "pICPm-SiYNmz",
        "colab_type": "code",
        "outputId": "764f1d5c-70ee-4a74-a236-f37ca627dfd2",
        "colab": {
          "base_uri": "https://localhost:8080/",
          "height": 119
        }
      },
      "source": [
        "# Printing a string using FOR\n",
        "n = input(\"enter a name : \")\n",
        "for i in n:\n",
        "  print(i)"
      ],
      "execution_count": 0,
      "outputs": [
        {
          "output_type": "stream",
          "text": [
            "enter a name : Mouni\n",
            "M\n",
            "o\n",
            "u\n",
            "n\n",
            "i\n"
          ],
          "name": "stdout"
        }
      ]
    },
    {
      "cell_type": "code",
      "metadata": {
        "id": "o5qk2jELZrBg",
        "colab_type": "code",
        "outputId": "f9cd7d9e-e8ca-45d4-aab9-91e5894e989e",
        "colab": {
          "base_uri": "https://localhost:8080/",
          "height": 119
        }
      },
      "source": [
        "# Printing a string using WHILE loop\n",
        "n = input(\"enter a name:\")\n",
        "l = len(n)\n",
        "i = 0\n",
        "while i<l:\n",
        "  print(n[i])  # variable in the index i\n",
        "  i =i + 1"
      ],
      "execution_count": 0,
      "outputs": [
        {
          "output_type": "stream",
          "text": [
            "enter a name:MOUNI\n",
            "M\n",
            "O\n",
            "U\n",
            "N\n",
            "I\n"
          ],
          "name": "stdout"
        }
      ]
    },
    {
      "cell_type": "markdown",
      "metadata": {
        "id": "ShFRLn5ebtmC",
        "colab_type": "text"
      },
      "source": [
        "### Functions"
      ]
    },
    {
      "cell_type": "code",
      "metadata": {
        "id": "6yqWYyo8doIw",
        "colab_type": "code",
        "colab": {}
      },
      "source": [
        "# syntax\n",
        "   def name(args):\n",
        "     statements\n",
        "     return"
      ],
      "execution_count": 0,
      "outputs": []
    },
    {
      "cell_type": "code",
      "metadata": {
        "id": "YQ0ELXMDecKC",
        "colab_type": "code",
        "outputId": "0882eb84-684d-429a-bd28-097b360cce0f",
        "colab": {
          "base_uri": "https://localhost:8080/",
          "height": 34
        }
      },
      "source": [
        "def add(x,y):\n",
        "  return x+y\n",
        "add(2,4)"
      ],
      "execution_count": 0,
      "outputs": [
        {
          "output_type": "execute_result",
          "data": {
            "text/plain": [
              "6"
            ]
          },
          "metadata": {
            "tags": []
          },
          "execution_count": 68
        }
      ]
    },
    {
      "cell_type": "code",
      "metadata": {
        "id": "8N2kQqz7k-Xh",
        "colab_type": "code",
        "outputId": "5c737500-b07c-4ab2-9fa9-99ffbdf6e692",
        "colab": {
          "base_uri": "https://localhost:8080/",
          "height": 34
        }
      },
      "source": [
        "# Sum of even no.s from 1 to n\n",
        "def Even_sum(n):\n",
        "  sum=0\n",
        "  for i in range(1,n+1):\n",
        "    if i%2==0:\n",
        "      sum=sum+i \n",
        "  return sum\n",
        "Even_sum(30)\n"
      ],
      "execution_count": 0,
      "outputs": [
        {
          "output_type": "execute_result",
          "data": {
            "text/plain": [
              "240"
            ]
          },
          "metadata": {
            "tags": []
          },
          "execution_count": 12
        }
      ]
    }
  ]
}