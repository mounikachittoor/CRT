{
  "nbformat": 4,
  "nbformat_minor": 0,
  "metadata": {
    "colab": {
      "name": "Day-5(3/12/2019).ipynb",
      "provenance": [],
      "include_colab_link": true
    },
    "kernelspec": {
      "name": "python3",
      "display_name": "Python 3"
    }
  },
  "cells": [
    {
      "cell_type": "markdown",
      "metadata": {
        "id": "view-in-github",
        "colab_type": "text"
      },
      "source": [
        "<a href=\"https://colab.research.google.com/github/mounikachittoor/CRT/blob/master/Day_5(3_12_2019).ipynb\" target=\"_parent\"><img src=\"https://colab.research.google.com/assets/colab-badge.svg\" alt=\"Open In Colab\"/></a>"
      ]
    },
    {
      "cell_type": "markdown",
      "metadata": {
        "id": "OTHTJBIs89t_",
        "colab_type": "text"
      },
      "source": [
        "# Python programming\n",
        "## Python programming\n",
        "### Python programming\n",
        "###### Python programming\n",
        "Python programming"
      ]
    },
    {
      "cell_type": "markdown",
      "metadata": {
        "id": "d9o4FXt9-VAE",
        "colab_type": "text"
      },
      "source": [
        "\n",
        "\n",
        "1.   python basic\n",
        "2.   python advance\n",
        "3.   python program\n",
        "\n"
      ]
    },
    {
      "cell_type": "markdown",
      "metadata": {
        "id": "vnQD9fSi_beW",
        "colab_type": "text"
      },
      "source": [
        "![image](https://akm-img-a-in.tosshub.com/indiatoday/images/bodyeditor/201909/positive-1521334_960_720-x640.jpg?rPgOxnVWANCxIs2RPpsbLVgAiUNwvzA6)Quote"
      ]
    },
    {
      "cell_type": "markdown",
      "metadata": {
        "id": "B9xbcrT4AP8J",
        "colab_type": "text"
      },
      "source": [
        "[GOOGLE](https://www.google.com/search?q=google&oq=google&aqs=chrome..69i57j35i39j0j69i60l5.7311j0j4&sourceid=chrome&ie=UTF-8)"
      ]
    },
    {
      "cell_type": "code",
      "metadata": {
        "id": "DV4mTqeJA1oy",
        "colab_type": "code",
        "outputId": "c948f059-73c9-4bc8-e56f-9a2a5cff927e",
        "colab": {
          "base_uri": "https://localhost:8080/",
          "height": 34
        }
      },
      "source": [
        "print(\"Hello World\")"
      ],
      "execution_count": 0,
      "outputs": [
        {
          "output_type": "stream",
          "text": [
            "Hello World\n"
          ],
          "name": "stdout"
        }
      ]
    },
    {
      "cell_type": "code",
      "metadata": {
        "id": "VRRI88LOD-Ml",
        "colab_type": "code",
        "outputId": "020ce95d-5545-47af-8637-7fce28e89710",
        "colab": {
          "base_uri": "https://localhost:8080/",
          "height": 51
        }
      },
      "source": [
        "x = 10\n",
        "y = 20\n",
        "print(x + y)\n",
        "print(x - y)"
      ],
      "execution_count": 0,
      "outputs": [
        {
          "output_type": "stream",
          "text": [
            "30\n",
            "-10\n"
          ],
          "name": "stdout"
        }
      ]
    },
    {
      "cell_type": "code",
      "metadata": {
        "id": "ZmYUyKU2HFqH",
        "colab_type": "code",
        "outputId": "2bc7a559-7387-4b60-921a-edeb9dac38b0",
        "colab": {
          "base_uri": "https://localhost:8080/",
          "height": 85
        }
      },
      "source": [
        "x = int(input(\"enter x value\"))\n",
        "y = int(input(\"enter y value\"))\n",
        "print(x + y)\n",
        "print(x - y)"
      ],
      "execution_count": 0,
      "outputs": [
        {
          "output_type": "stream",
          "text": [
            "enter x value10\n",
            "enter y value20\n",
            "30\n",
            "-10\n"
          ],
          "name": "stdout"
        }
      ]
    },
    {
      "cell_type": "code",
      "metadata": {
        "id": "lsqSBvq2JigA",
        "colab_type": "code",
        "outputId": "6badf91d-407d-4381-a1b5-600d14b2d9db",
        "colab": {
          "base_uri": "https://localhost:8080/",
          "height": 68
        }
      },
      "source": [
        "n = input(\"enter name\")\n",
        "a = int(input(\"enter age\"))\n",
        "print(\"My NAME is \",n ,end='   ')\n",
        "print(\"My AGE is\",a)"
      ],
      "execution_count": 0,
      "outputs": [
        {
          "output_type": "stream",
          "text": [
            "enter nameMounika Reddy\n",
            "enter age20\n",
            "My NAME is  Mounika Reddy   My AGE is 20\n"
          ],
          "name": "stdout"
        }
      ]
    },
    {
      "cell_type": "markdown",
      "metadata": {
        "id": "c6BmaQalOf0M",
        "colab_type": "text"
      },
      "source": [
        "# fundamental data types\n",
        "\n",
        "\n",
        "1.   int\n",
        "2.   float\n",
        "3.   complex\n",
        "4.   boolean\n",
        "5.   string\n",
        "\n",
        "\n"
      ]
    },
    {
      "cell_type": "code",
      "metadata": {
        "id": "GTBaIROFPFye",
        "colab_type": "code",
        "outputId": "fa975417-ce82-4e58-a049-edb8ee11032f",
        "colab": {
          "base_uri": "https://localhost:8080/",
          "height": 34
        }
      },
      "source": [
        "x = 6\n",
        "y = 6.5\n",
        "z = 3 + 6j\n",
        "a = 2+4j\n",
        "print(type(x),type(y),type(z),type(a))"
      ],
      "execution_count": 0,
      "outputs": [
        {
          "output_type": "stream",
          "text": [
            "<class 'int'> <class 'float'> <class 'complex'> <class 'complex'>\n"
          ],
          "name": "stdout"
        }
      ]
    },
    {
      "cell_type": "code",
      "metadata": {
        "id": "uDJBnFZTK9tT",
        "colab_type": "code",
        "outputId": "afe1cf05-aa99-4ca1-8f8e-8b6544067faa",
        "colab": {
          "base_uri": "https://localhost:8080/",
          "height": 34
        }
      },
      "source": [
        "print(z + a)"
      ],
      "execution_count": 0,
      "outputs": [
        {
          "output_type": "stream",
          "text": [
            "(5+10j)\n"
          ],
          "name": "stdout"
        }
      ]
    },
    {
      "cell_type": "code",
      "metadata": {
        "id": "lkWen9PmUZAu",
        "colab_type": "code",
        "outputId": "a86ddefe-df2b-4c64-ebef-4247aeccda4f",
        "colab": {
          "base_uri": "https://localhost:8080/",
          "height": 68
        }
      },
      "source": [
        "str1 = \"Gitam \"\n",
        "str2 = 'University'\n",
        "print(str1 + str2)\n",
        "print(len(str1))\n",
        "len(str1 + str2)"
      ],
      "execution_count": 0,
      "outputs": [
        {
          "output_type": "stream",
          "text": [
            "Gitam University\n",
            "6\n"
          ],
          "name": "stdout"
        },
        {
          "output_type": "execute_result",
          "data": {
            "text/plain": [
              "16"
            ]
          },
          "metadata": {
            "tags": []
          },
          "execution_count": 53
        }
      ]
    },
    {
      "cell_type": "code",
      "metadata": {
        "id": "cgt8OfW-VodT",
        "colab_type": "code",
        "outputId": "e417e5f1-2e8a-414a-8ffd-a910adc09309",
        "colab": {
          "base_uri": "https://localhost:8080/",
          "height": 34
        }
      },
      "source": [
        "x = 221710405006\n",
        "print(len(str(x)))"
      ],
      "execution_count": 0,
      "outputs": [
        {
          "output_type": "stream",
          "text": [
            "12\n"
          ],
          "name": "stdout"
        }
      ]
    },
    {
      "cell_type": "code",
      "metadata": {
        "id": "lp-5cO4vXCeh",
        "colab_type": "code",
        "outputId": "44dc9597-9fd6-480f-a144-902d32036d4a",
        "colab": {
          "base_uri": "https://localhost:8080/",
          "height": 34
        }
      },
      "source": [
        "result = 10<20\n",
        "print(result,type(result))"
      ],
      "execution_count": 0,
      "outputs": [
        {
          "output_type": "stream",
          "text": [
            "True <class 'bool'>\n"
          ],
          "name": "stdout"
        }
      ]
    },
    {
      "cell_type": "markdown",
      "metadata": {
        "id": "fbcRGHciZUeO",
        "colab_type": "text"
      },
      "source": [
        "## Operators\n",
        " {unary(a++):not present in python}   \n",
        "\n",
        "1.   binary\n",
        "2.   ternary\n",
        "          ** :- is used to find power\n",
        "          // :- is used to eliminate the decimals in division (floor operator)\n",
        "\n",
        "1.   Arithmetic Operators : +, -, *, /, %\n",
        "2.   Logical Operators : and, or, not\n",
        "3.   Relational Operators : ==, >, <, >=, <=, !=\n",
        "4.   **Membership Operators : in, not in\n",
        "         --- checking availability of the char in string\n",
        "         --- useful in loops \n",
        "\n",
        "\n",
        "\n",
        "\n",
        "\n"
      ]
    },
    {
      "cell_type": "markdown",
      "metadata": {
        "id": "bJblg1OXayM5",
        "colab_type": "text"
      },
      "source": [
        "### Arithmetic Operators"
      ]
    },
    {
      "cell_type": "code",
      "metadata": {
        "id": "z_FRtCpDbGBB",
        "colab_type": "code",
        "outputId": "d024c7d3-0b66-4db6-dc49-f344bb1cd295",
        "colab": {
          "base_uri": "https://localhost:8080/",
          "height": 119
        }
      },
      "source": [
        "a = 20\n",
        "b = 5\n",
        "print(a+b)\n",
        "print(a-b)\n",
        "print(a*b)\n",
        "print(a//b)\n",
        "print(a%b)\n",
        "print(a**b)"
      ],
      "execution_count": 0,
      "outputs": [
        {
          "output_type": "stream",
          "text": [
            "25\n",
            "15\n",
            "100\n",
            "4\n",
            "0\n",
            "3200000\n"
          ],
          "name": "stdout"
        }
      ]
    },
    {
      "cell_type": "markdown",
      "metadata": {
        "id": "IQ9bmmsidZTO",
        "colab_type": "text"
      },
      "source": [
        "### Logical Operators"
      ]
    },
    {
      "cell_type": "code",
      "metadata": {
        "id": "uKTc78cjeYC3",
        "colab_type": "code",
        "outputId": "a0959095-8e9c-474e-9589-f25d65ef87c7",
        "colab": {
          "base_uri": "https://localhost:8080/",
          "height": 85
        }
      },
      "source": [
        "i = 20\n",
        "j = 5\n",
        "print(i>1 and i>50)\n",
        "print(j<1 or j>4)\n",
        "print(not i)\n",
        "print(not j)"
      ],
      "execution_count": 0,
      "outputs": [
        {
          "output_type": "stream",
          "text": [
            "False\n",
            "True\n",
            "False\n",
            "False\n"
          ],
          "name": "stdout"
        }
      ]
    },
    {
      "cell_type": "markdown",
      "metadata": {
        "id": "oLpc4ZTTgOnd",
        "colab_type": "text"
      },
      "source": [
        "### Relational Operators"
      ]
    },
    {
      "cell_type": "code",
      "metadata": {
        "id": "ng1saJkDge8n",
        "colab_type": "code",
        "outputId": "8911ebb3-c31b-4bc3-a60e-c348eb5e56ca",
        "colab": {
          "base_uri": "https://localhost:8080/",
          "height": 119
        }
      },
      "source": [
        "print(i==j)\n",
        "print(i!=j)\n",
        "print(i>j)\n",
        "print(i<j)\n",
        "print(i>=j)\n",
        "print(i<=j)"
      ],
      "execution_count": 0,
      "outputs": [
        {
          "output_type": "stream",
          "text": [
            "False\n",
            "True\n",
            "True\n",
            "False\n",
            "True\n",
            "False\n"
          ],
          "name": "stdout"
        }
      ]
    },
    {
      "cell_type": "markdown",
      "metadata": {
        "id": "OYUDX_OXhRJl",
        "colab_type": "text"
      },
      "source": [
        "### Membership Operators"
      ]
    },
    {
      "cell_type": "code",
      "metadata": {
        "id": "DfjdEEkFhUyd",
        "colab_type": "code",
        "outputId": "7f40eb59-e5d4-482b-d439-437d7708256f",
        "colab": {
          "base_uri": "https://localhost:8080/",
          "height": 68
        }
      },
      "source": [
        "str1 = 'Gitam'\n",
        "print('z' in str1)\n",
        "print('g' in str1)\n",
        "print('b' not in str1)"
      ],
      "execution_count": 0,
      "outputs": [
        {
          "output_type": "stream",
          "text": [
            "False\n",
            "False\n",
            "True\n"
          ],
          "name": "stdout"
        }
      ]
    },
    {
      "cell_type": "markdown",
      "metadata": {
        "id": "fLZgExytiqD1",
        "colab_type": "text"
      },
      "source": [
        "# Conditional Statements\n",
        "\n",
        "\n",
        "1.    if\n",
        "2.    else\n",
        "3.    elif\n",
        "\n",
        "      # syntax:-\n",
        "              if condition:\n",
        "(1 tab dist.)    statement\n",
        "                 statement\n",
        "                 else:\n",
        "(1 tab dist.)        statements    \n",
        "\n"
      ]
    },
    {
      "cell_type": "code",
      "metadata": {
        "id": "FB6kpLPxjYJz",
        "colab_type": "code",
        "outputId": "f932a8ba-b12c-47b6-8f4c-f22e99433bf1",
        "colab": {
          "base_uri": "https://localhost:8080/",
          "height": 51
        }
      },
      "source": [
        "n = int(int(input(\"enter a number\")))\n",
        "if n%2==0:\n",
        "  print('even')\n",
        "else:\n",
        "  print(\"odd\")"
      ],
      "execution_count": 0,
      "outputs": [
        {
          "output_type": "stream",
          "text": [
            "enter a number54\n",
            "even\n"
          ],
          "name": "stdout"
        }
      ]
    }
  ]
}