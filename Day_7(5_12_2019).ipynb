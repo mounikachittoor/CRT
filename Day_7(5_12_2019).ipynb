{
  "nbformat": 4,
  "nbformat_minor": 0,
  "metadata": {
    "colab": {
      "name": "Day-7(5/12/2019).ipynb",
      "provenance": [],
      "collapsed_sections": [],
      "include_colab_link": true
    },
    "kernelspec": {
      "name": "python3",
      "display_name": "Python 3"
    }
  },
  "cells": [
    {
      "cell_type": "markdown",
      "metadata": {
        "id": "view-in-github",
        "colab_type": "text"
      },
      "source": [
        "<a href=\"https://colab.research.google.com/github/mounikachittoor/CRT/blob/master/Day_7(5_12_2019).ipynb\" target=\"_parent\"><img src=\"https://colab.research.google.com/assets/colab-badge.svg\" alt=\"Open In Colab\"/></a>"
      ]
    },
    {
      "cell_type": "code",
      "metadata": {
        "id": "XioaffvhNxP4",
        "colab_type": "code",
        "outputId": "d74fec96-263a-4157-b638-82484b0b335c",
        "colab": {
          "base_uri": "https://localhost:8080/",
          "height": 50
        }
      },
      "source": [
        "# Factorial of a number\n",
        "def factorial(n):\n",
        "  fact = 1\n",
        "  for i in range(1,n+1):\n",
        "    fact = fact * i\n",
        "  return fact\n",
        "print(factorial(5))\n",
        "print(factorial(10))"
      ],
      "execution_count": 0,
      "outputs": [
        {
          "output_type": "stream",
          "text": [
            "120\n",
            "3628800\n"
          ],
          "name": "stdout"
        }
      ]
    },
    {
      "cell_type": "code",
      "metadata": {
        "id": "0LCzNmUpQtLC",
        "colab_type": "code",
        "outputId": "bb738f96-f30b-48f3-e125-1a499c813f32",
        "colab": {
          "base_uri": "https://localhost:8080/",
          "height": 101
        }
      },
      "source": [
        "# Factors\n",
        "def factor(n):\n",
        "  for i in range(1,n+1):\n",
        "    if n%i==0:\n",
        "      print(i)\n",
        "  return i\n",
        "factor(6)"
      ],
      "execution_count": 0,
      "outputs": [
        {
          "output_type": "stream",
          "text": [
            "1\n",
            "2\n",
            "3\n",
            "6\n"
          ],
          "name": "stdout"
        },
        {
          "output_type": "execute_result",
          "data": {
            "text/plain": [
              "6"
            ]
          },
          "metadata": {
            "tags": []
          },
          "execution_count": 83
        }
      ]
    },
    {
      "cell_type": "markdown",
      "metadata": {
        "id": "X5_L6gAsT0y5",
        "colab_type": "text"
      },
      "source": [
        "### Collection Datatypes\n",
        "\n",
        "1.    List : [1,2,3].. 1,2,3 r called elements\n",
        "        -- list is mutable\n",
        "        -- each element has index so list is indexed \n",
        "        -- list has ordered(since elements r ordered)\n",
        "        -- can be passed any type of values\n",
        "        -- list holds heterogenous\n",
        "2.    Tuple : (1,2,3)\n",
        "        -- tuples r inmmutable(i.e.,we can't add or del elements)\n",
        "        --holds 2 inbuilt methods..index nd count\n",
        "3.    Dictionary : {key1:value,key2:value}\n",
        "        --keys should be immutable nd unique\n",
        "        --no.s, tuples,strings r immutable.so it can be used as keys\n",
        "\n"
      ]
    },
    {
      "cell_type": "markdown",
      "metadata": {
        "id": "nDaP6ZHQlUsc",
        "colab_type": "text"
      },
      "source": [
        "#### LIST"
      ]
    },
    {
      "cell_type": "code",
      "metadata": {
        "id": "QBwq4SD2TnGz",
        "colab_type": "code",
        "outputId": "2d702217-d87b-4bbe-f753-3b4b06d6b1e5",
        "colab": {
          "base_uri": "https://localhost:8080/",
          "height": 67
        }
      },
      "source": [
        "x = [10,20,30]              \n",
        "x.append(40)                # to add elements at the end we use built in function \"append\"--print(x)\n",
        "print(x[2])                 # to retrieve an element we use{print(x[index no.])}\n",
        "x.append(50)                # to print 2 n0.s print(x[3:5])\n",
        "x[2] = 100                  # to replace a number x[index no.]=new value\n",
        "print(x)    \n",
        "del x[2]                    # to delete we use del x[index no.]\n",
        "print(x)                            #----this is called SLICING"
      ],
      "execution_count": 0,
      "outputs": [
        {
          "output_type": "stream",
          "text": [
            "30\n",
            "[10, 20, 100, 40, 50]\n",
            "[10, 20, 40, 50]\n"
          ],
          "name": "stdout"
        }
      ]
    },
    {
      "cell_type": "code",
      "metadata": {
        "id": "SnUEV9DhY3qa",
        "colab_type": "code",
        "outputId": "c388e10c-8bda-4786-e658-dd6633e216a4",
        "colab": {
          "base_uri": "https://localhost:8080/",
          "height": 34
        }
      },
      "source": [
        "x.insert(3,500)       # to add an element in the middle we use insert\n",
        "x"
      ],
      "execution_count": 0,
      "outputs": [
        {
          "output_type": "execute_result",
          "data": {
            "text/plain": [
              "[10, 20, 40, 500, 50]"
            ]
          },
          "metadata": {
            "tags": []
          },
          "execution_count": 85
        }
      ]
    },
    {
      "cell_type": "code",
      "metadata": {
        "id": "zchURrszZSNR",
        "colab_type": "code",
        "outputId": "102af67c-aa88-4258-8e95-2453a1f484a9",
        "colab": {
          "base_uri": "https://localhost:8080/",
          "height": 34
        }
      },
      "source": [
        "x.extend([1,2,3])        # to add multiple elements\n",
        "print(x)"
      ],
      "execution_count": 0,
      "outputs": [
        {
          "output_type": "stream",
          "text": [
            "[10, 20, 40, 500, 50, 1, 2, 3]\n"
          ],
          "name": "stdout"
        }
      ]
    },
    {
      "cell_type": "code",
      "metadata": {
        "id": "1Fej8RDLZZdt",
        "colab_type": "code",
        "outputId": "b676447a-e9fb-4611-fe10-33eca15bfef2",
        "colab": {
          "base_uri": "https://localhost:8080/",
          "height": 34
        }
      },
      "source": [
        "                  # when we know index use pop method\n",
        "x.pop()           # pop removes last element in the list\n",
        "print(x)         # in python we have +ve nd -ve indexes\n",
        "                 # pop takes -ve index by default in reverse \n",
        "                 # we can use pop(0) to remove 1st element"
      ],
      "execution_count": 0,
      "outputs": [
        {
          "output_type": "stream",
          "text": [
            "[10, 20, 40, 500, 50, 1, 2]\n"
          ],
          "name": "stdout"
        }
      ]
    },
    {
      "cell_type": "code",
      "metadata": {
        "id": "umJ3sMNLk9Dk",
        "colab_type": "code",
        "outputId": "6e5a2bf2-9f42-4576-be1f-d57790a265fc",
        "colab": {
          "base_uri": "https://localhost:8080/",
          "height": 34
        }
      },
      "source": [
        "x = [10,20,40,500,50,1,2]\n",
        "x.count(20)"
      ],
      "execution_count": 0,
      "outputs": [
        {
          "output_type": "execute_result",
          "data": {
            "text/plain": [
              "1"
            ]
          },
          "metadata": {
            "tags": []
          },
          "execution_count": 110
        }
      ]
    },
    {
      "cell_type": "code",
      "metadata": {
        "id": "sIrLdamEZxZ-",
        "colab_type": "code",
        "outputId": "221f0eaa-6bd8-437b-fbdc-ce46ece69502",
        "colab": {
          "base_uri": "https://localhost:8080/",
          "height": 34
        }
      },
      "source": [
        "x.remove(2)     # to remove a no. whose index is not known we use remove method\n",
        "print(x)"
      ],
      "execution_count": 0,
      "outputs": [
        {
          "output_type": "stream",
          "text": [
            "[10, 40, 500, 50, 1]\n"
          ],
          "name": "stdout"
        }
      ]
    },
    {
      "cell_type": "code",
      "metadata": {
        "id": "igz1hOcZaf5S",
        "colab_type": "code",
        "outputId": "41448197-ab65-40cc-812e-373a2891ee03",
        "colab": {
          "base_uri": "https://localhost:8080/",
          "height": 34
        }
      },
      "source": [
        "x.clear()   # to remove all the values from list\n",
        "print(x)"
      ],
      "execution_count": 0,
      "outputs": [
        {
          "output_type": "stream",
          "text": [
            "[]\n"
          ],
          "name": "stdout"
        }
      ]
    },
    {
      "cell_type": "code",
      "metadata": {
        "id": "m98VJKx4bxEb",
        "colab_type": "code",
        "outputId": "2c591702-d880-4b9e-875e-17202766df1c",
        "colab": {
          "base_uri": "https://localhost:8080/",
          "height": 34
        }
      },
      "source": [
        "x = [10,20,100,30]       \n",
        "x.index(100)          # to return the index of a no."
      ],
      "execution_count": 0,
      "outputs": [
        {
          "output_type": "execute_result",
          "data": {
            "text/plain": [
              "2"
            ]
          },
          "metadata": {
            "tags": []
          },
          "execution_count": 91
        }
      ]
    },
    {
      "cell_type": "code",
      "metadata": {
        "id": "PNx6k9AQb4QY",
        "colab_type": "code",
        "outputId": "fc0f2085-1976-4b5d-9c6d-849cad87351f",
        "colab": {
          "base_uri": "https://localhost:8080/",
          "height": 34
        }
      },
      "source": [
        "x.sort()          # sort is used to keep in ascending order i.e., homogenous\n",
        "print(x)          # all the elements should be numerical i.e.,int or float"
      ],
      "execution_count": 0,
      "outputs": [
        {
          "output_type": "stream",
          "text": [
            "[10, 20, 30, 100]\n"
          ],
          "name": "stdout"
        }
      ]
    },
    {
      "cell_type": "code",
      "metadata": {
        "id": "zpNK7eKxcZhu",
        "colab_type": "code",
        "outputId": "b40a090e-1c47-4a9e-e730-be46088d5a06",
        "colab": {
          "base_uri": "https://localhost:8080/",
          "height": 34
        }
      },
      "source": [
        "x.sort(reverse=True) # for descending order we use arguments in sort\n",
        "print(x)             # by default reverse is false ..so we keep rev. = True"
      ],
      "execution_count": 0,
      "outputs": [
        {
          "output_type": "stream",
          "text": [
            "[100, 30, 20, 10]\n"
          ],
          "name": "stdout"
        }
      ]
    },
    {
      "cell_type": "code",
      "metadata": {
        "id": "DzEYtb9BdgUu",
        "colab_type": "code",
        "outputId": "623d1c25-ca16-4dee-eda4-66c95af3d3b2",
        "colab": {
          "base_uri": "https://localhost:8080/",
          "height": 34
        }
      },
      "source": [
        "x.reverse()    # for reverse\n",
        "print(x)"
      ],
      "execution_count": 0,
      "outputs": [
        {
          "output_type": "stream",
          "text": [
            "[10, 20, 30, 100]\n"
          ],
          "name": "stdout"
        }
      ]
    },
    {
      "cell_type": "code",
      "metadata": {
        "id": "hMNMtcdOd_lf",
        "colab_type": "code",
        "outputId": "749e68e0-73d7-4bda-e165-338dae340af6",
        "colab": {
          "base_uri": "https://localhost:8080/",
          "height": 34
        }
      },
      "source": [
        "# create a list of different values ..if the value is even then print sqaure of those even values\n",
        "# ITERATING through list\n",
        "x = [1,2,3,4,6,8]\n",
        "r = len(x)\n",
        "for i in range(0,r):\n",
        "  if x[i]%2==0:\n",
        "    print(x[i]**2,end=\" \")"
      ],
      "execution_count": 0,
      "outputs": [
        {
          "output_type": "stream",
          "text": [
            "4 16 36 64 "
          ],
          "name": "stdout"
        }
      ]
    },
    {
      "cell_type": "code",
      "metadata": {
        "id": "EObqf-50erAf",
        "colab_type": "code",
        "outputId": "fdf6a51c-2e19-4818-b561-91c41c4b748c",
        "colab": {
          "base_uri": "https://localhost:8080/",
          "height": 34
        }
      },
      "source": [
        "# other method for above question\n",
        "for i in x:\n",
        "  if i%2==0:\n",
        "    print(i*i, end=\" \")"
      ],
      "execution_count": 0,
      "outputs": [
        {
          "output_type": "stream",
          "text": [
            "4 16 36 64 "
          ],
          "name": "stdout"
        }
      ]
    },
    {
      "cell_type": "code",
      "metadata": {
        "id": "nnBvwJn1fwBO",
        "colab_type": "code",
        "outputId": "5697f74e-5f3f-426b-9154-dc4269197892",
        "colab": {
          "base_uri": "https://localhost:8080/",
          "height": 50
        }
      },
      "source": [
        "# above question using function by creating a list\n",
        "def even(x):\n",
        "  list1= []\n",
        "  for i in x:\n",
        "    if i%2 == 0:\n",
        "      list1.append(i**2)\n",
        "  return list1\n",
        "print(even([2,3,7,0]))\n",
        "even([1,2,3,4,6,8])"
      ],
      "execution_count": 0,
      "outputs": [
        {
          "output_type": "stream",
          "text": [
            "[4, 0]\n"
          ],
          "name": "stdout"
        },
        {
          "output_type": "execute_result",
          "data": {
            "text/plain": [
              "[4, 16, 36, 64]"
            ]
          },
          "metadata": {
            "tags": []
          },
          "execution_count": 97
        }
      ]
    },
    {
      "cell_type": "code",
      "metadata": {
        "id": "kUwF8Y1bhzzr",
        "colab_type": "code",
        "outputId": "b956bbc2-dc94-466a-c7bb-61150fb66e75",
        "colab": {
          "base_uri": "https://localhost:8080/",
          "height": 34
        }
      },
      "source": [
        "# above question without list\n",
        "def even(x):\n",
        "  for i in x:\n",
        "    if i%2 == 0:\n",
        "      print(i**2,end=\" \")\n",
        "even([2,3,7,6])\n",
        "even([10,4,7,9])"
      ],
      "execution_count": 0,
      "outputs": [
        {
          "output_type": "stream",
          "text": [
            "4 36 100 16 "
          ],
          "name": "stdout"
        }
      ]
    },
    {
      "cell_type": "code",
      "metadata": {
        "id": "SaL_ZQNRjQK-",
        "colab_type": "code",
        "colab": {}
      },
      "source": [
        "# Accept student marks w.r.t the sub. nd add the marks to a list nd print the sum of marks"
      ],
      "execution_count": 0,
      "outputs": []
    },
    {
      "cell_type": "markdown",
      "metadata": {
        "id": "zByeZrQUlPbE",
        "colab_type": "text"
      },
      "source": [
        "##### TUPLE"
      ]
    },
    {
      "cell_type": "code",
      "metadata": {
        "id": "4Ta9ZXgAkMo0",
        "colab_type": "code",
        "outputId": "c1985d81-3f9f-436c-b10a-7a4ee646ae54",
        "colab": {
          "base_uri": "https://localhost:8080/",
          "height": 34
        }
      },
      "source": [
        "# tuple1 = (1,2,3,6)\n",
        "print(tuple1)"
      ],
      "execution_count": 0,
      "outputs": [
        {
          "output_type": "stream",
          "text": [
            "(1, 2, 3, 6)\n"
          ],
          "name": "stdout"
        }
      ]
    },
    {
      "cell_type": "code",
      "metadata": {
        "id": "56X8bt4tkc39",
        "colab_type": "code",
        "outputId": "ffdb5063-198d-4ce2-a8aa-2b911c55d3b5",
        "colab": {
          "base_uri": "https://localhost:8080/",
          "height": 34
        }
      },
      "source": [
        "tuple1.count(2)  # to count the no. tymes an element is present"
      ],
      "execution_count": 0,
      "outputs": [
        {
          "output_type": "execute_result",
          "data": {
            "text/plain": [
              "1"
            ]
          },
          "metadata": {
            "tags": []
          },
          "execution_count": 101
        }
      ]
    },
    {
      "cell_type": "code",
      "metadata": {
        "id": "dMzV-cG8kxn-",
        "colab_type": "code",
        "outputId": "96432701-d97b-47e5-8d91-49106560e095",
        "colab": {
          "base_uri": "https://localhost:8080/",
          "height": 34
        }
      },
      "source": [
        "type(tuple1)"
      ],
      "execution_count": 0,
      "outputs": [
        {
          "output_type": "execute_result",
          "data": {
            "text/plain": [
              "tuple"
            ]
          },
          "metadata": {
            "tags": []
          },
          "execution_count": 102
        }
      ]
    },
    {
      "cell_type": "code",
      "metadata": {
        "id": "T4Z3-uIwmDNs",
        "colab_type": "code",
        "outputId": "7e9ea25c-4407-46b6-9a38-0ed715fceca5",
        "colab": {
          "base_uri": "https://localhost:8080/",
          "height": 34
        }
      },
      "source": [
        "x = 1,2,3,4\n",
        "print(type(x))"
      ],
      "execution_count": 0,
      "outputs": [
        {
          "output_type": "stream",
          "text": [
            "<class 'tuple'>\n"
          ],
          "name": "stdout"
        }
      ]
    },
    {
      "cell_type": "markdown",
      "metadata": {
        "id": "HQNpcr25les0",
        "colab_type": "text"
      },
      "source": [
        "#### DICTIONARY    \n",
        "\n"
      ]
    },
    {
      "cell_type": "code",
      "metadata": {
        "id": "7WBKwfAsmSy9",
        "colab_type": "code",
        "colab": {}
      },
      "source": [
        "s = ['a','b','c']\n",
        "r = [1,2,3]\n",
        "d = {s:r,s:r,s:r} # we have to compare both s nd r to get the details..this is not necessary in dictionary since we use keys"
      ],
      "execution_count": 0,
      "outputs": []
    },
    {
      "cell_type": "code",
      "metadata": {
        "id": "_9wjpbfsmzmC",
        "colab_type": "code",
        "colab": {}
      },
      "source": [
        "dict1 = {\"name\":\"MOUNI\",\"age\":'20',\"address\":\"Hyd\"}\n",
        "print(dict1['age'])\n",
        "dict1['name']"
      ],
      "execution_count": 0,
      "outputs": []
    },
    {
      "cell_type": "code",
      "metadata": {
        "id": "HpH5Jt0SnpM-",
        "colab_type": "code",
        "outputId": "18e83933-527c-4798-b1fe-26d76469a89a",
        "colab": {
          "base_uri": "https://localhost:8080/",
          "height": 34
        }
      },
      "source": [
        "dict1['course'] = \"python\"  # to insert new value\n",
        "print(dict1)"
      ],
      "execution_count": 0,
      "outputs": [
        {
          "output_type": "stream",
          "text": [
            "{'name': 'MOUNI', 'age': '20', 'address': 'Hyd', 'course': 'python'}\n"
          ],
          "name": "stdout"
        }
      ]
    },
    {
      "cell_type": "code",
      "metadata": {
        "id": "C91OhzQBo5S9",
        "colab_type": "code",
        "outputId": "3654b13b-5a22-40c1-986e-f39c131b80ce",
        "colab": {
          "base_uri": "https://localhost:8080/",
          "height": 34
        }
      },
      "source": [
        "del dict1['course']\n",
        "print(dict1)\n"
      ],
      "execution_count": 0,
      "outputs": [
        {
          "output_type": "stream",
          "text": [
            "{'name': 'MOUNI', 'age': '20', 'address': 'Hyd'}\n"
          ],
          "name": "stdout"
        }
      ]
    },
    {
      "cell_type": "code",
      "metadata": {
        "id": "KQcoSyCcrELv",
        "colab_type": "code",
        "outputId": "3f869f1d-cdd8-4bb1-b4db-0ac9c6a75e3e",
        "colab": {
          "base_uri": "https://localhost:8080/",
          "height": 34
        }
      },
      "source": [
        "dict1.keys()  # to print only keys "
      ],
      "execution_count": 0,
      "outputs": [
        {
          "output_type": "execute_result",
          "data": {
            "text/plain": [
              "dict_keys(['name', 'age', 'address'])"
            ]
          },
          "metadata": {
            "tags": []
          },
          "execution_count": 123
        }
      ]
    },
    {
      "cell_type": "code",
      "metadata": {
        "id": "xb5pLNezrPne",
        "colab_type": "code",
        "outputId": "fcd41291-4ab1-4631-d4ce-76a99fad66ed",
        "colab": {
          "base_uri": "https://localhost:8080/",
          "height": 34
        }
      },
      "source": [
        "dict1.values()   # to print values"
      ],
      "execution_count": 0,
      "outputs": [
        {
          "output_type": "execute_result",
          "data": {
            "text/plain": [
              "dict_values(['MOUNI', '20', 'Hyd'])"
            ]
          },
          "metadata": {
            "tags": []
          },
          "execution_count": 124
        }
      ]
    },
    {
      "cell_type": "code",
      "metadata": {
        "id": "Zve9r0djrS9e",
        "colab_type": "code",
        "outputId": "d20b770b-c7a9-4d32-b575-2f57c4c26ac5",
        "colab": {
          "base_uri": "https://localhost:8080/",
          "height": 34
        }
      },
      "source": [
        "dict1.items()"
      ],
      "execution_count": 0,
      "outputs": [
        {
          "output_type": "execute_result",
          "data": {
            "text/plain": [
              "dict_items([('name', 'MOUNI'), ('age', '20'), ('address', 'Hyd')])"
            ]
          },
          "metadata": {
            "tags": []
          },
          "execution_count": 125
        }
      ]
    },
    {
      "cell_type": "code",
      "metadata": {
        "id": "AXAW5Ux0rkze",
        "colab_type": "code",
        "outputId": "2be83a0e-d486-41c4-db72-87505f2a1f38",
        "colab": {
          "base_uri": "https://localhost:8080/",
          "height": 67
        }
      },
      "source": [
        "dict1 = {\"name\":\"MOUNI\",\"age\":'20',\"address\":\"Hyd\"}\n",
        "for i in dict1.keys():\n",
        "  print(\"My\",i,\"is\",dict1[i])"
      ],
      "execution_count": 0,
      "outputs": [
        {
          "output_type": "stream",
          "text": [
            "My name is MOUNI\n",
            "My age is 20\n",
            "My address is Hyd\n"
          ],
          "name": "stdout"
        }
      ]
    },
    {
      "cell_type": "markdown",
      "metadata": {
        "id": "6lX4XE7Wu-HP",
        "colab_type": "text"
      },
      "source": [
        "## STRINGS\n",
        "\n",
        "1.  STR is immutable i.e,we cant change it  \n",
        "2.    \n",
        "\n"
      ]
    },
    {
      "cell_type": "code",
      "metadata": {
        "id": "_SO1fLf-vhg-",
        "colab_type": "code",
        "outputId": "7955370c-a650-44c0-d584-c112a0d0bcc4",
        "colab": {
          "base_uri": "https://localhost:8080/",
          "height": 67
        }
      },
      "source": [
        "str1 = \"pythonprogramming\"\n",
        "print(len(str1))\n",
        "print(max(str1))\n",
        "print(min(str1))"
      ],
      "execution_count": 0,
      "outputs": [
        {
          "output_type": "stream",
          "text": [
            "17\n",
            "y\n",
            "a\n"
          ],
          "name": "stdout"
        }
      ]
    },
    {
      "cell_type": "code",
      "metadata": {
        "id": "5sq_F1GEvms9",
        "colab_type": "code",
        "outputId": "52009f4f-ffa8-40dc-81be-bf2f089477d5",
        "colab": {
          "base_uri": "https://localhost:8080/",
          "height": 101
        }
      },
      "source": [
        "# to find the ascii values\n",
        "print(ord('y'))\n",
        "print(ord('Y'))\n",
        "print(ord('1'))\n",
        "print(ord(' '))\n",
        "print(ord('t'))"
      ],
      "execution_count": 0,
      "outputs": [
        {
          "output_type": "stream",
          "text": [
            "121\n",
            "89\n",
            "49\n",
            "32\n",
            "116\n"
          ],
          "name": "stdout"
        }
      ]
    },
    {
      "cell_type": "code",
      "metadata": {
        "id": "C8qftLelwjtu",
        "colab_type": "code",
        "outputId": "335d9212-b78b-4e65-caa7-3ffa5744e44e",
        "colab": {
          "base_uri": "https://localhost:8080/",
          "height": 34
        }
      },
      "source": [
        "# to find the number or char of ascii values\n",
        "chr(98)"
      ],
      "execution_count": 0,
      "outputs": [
        {
          "output_type": "execute_result",
          "data": {
            "text/plain": [
              "'b'"
            ]
          },
          "metadata": {
            "tags": []
          },
          "execution_count": 153
        }
      ]
    },
    {
      "cell_type": "code",
      "metadata": {
        "id": "b1z73EKPxZfP",
        "colab_type": "code",
        "outputId": "9f3b6c27-7a66-4898-980c-3dcc32b8d1f6",
        "colab": {
          "base_uri": "https://localhost:8080/",
          "height": 34
        }
      },
      "source": [
        "str1.isalpha()     # only alphabets-true  #only lower case alphabets is considered"
      ],
      "execution_count": 0,
      "outputs": [
        {
          "output_type": "execute_result",
          "data": {
            "text/plain": [
              "True"
            ]
          },
          "metadata": {
            "tags": []
          },
          "execution_count": 159
        }
      ]
    },
    {
      "cell_type": "code",
      "metadata": {
        "id": "p4Zr1d6gxire",
        "colab_type": "code",
        "outputId": "677f8317-791e-436d-8e2f-b2babe88e71c",
        "colab": {
          "base_uri": "https://localhost:8080/",
          "height": 34
        }
      },
      "source": [
        "str1.isdigit()     # onl;y numbers-false"
      ],
      "execution_count": 0,
      "outputs": [
        {
          "output_type": "execute_result",
          "data": {
            "text/plain": [
              "False"
            ]
          },
          "metadata": {
            "tags": []
          },
          "execution_count": 157
        }
      ]
    },
    {
      "cell_type": "code",
      "metadata": {
        "id": "uZAdR9mBxzOf",
        "colab_type": "code",
        "outputId": "5e455f7d-0318-400c-8633-93644496a5e7",
        "colab": {
          "base_uri": "https://localhost:8080/",
          "height": 34
        }
      },
      "source": [
        "str2 = \"a123\"\n",
        "str2.isdigit()"
      ],
      "execution_count": 0,
      "outputs": [
        {
          "output_type": "execute_result",
          "data": {
            "text/plain": [
              "False"
            ]
          },
          "metadata": {
            "tags": []
          },
          "execution_count": 160
        }
      ]
    },
    {
      "cell_type": "code",
      "metadata": {
        "id": "w13ox66FyK6H",
        "colab_type": "code",
        "outputId": "d22d433f-8b27-4fdc-c0e9-165a736ffae0",
        "colab": {
          "base_uri": "https://localhost:8080/",
          "height": 34
        }
      },
      "source": [
        "str2.isalnum()   # both alphabet nd num"
      ],
      "execution_count": 0,
      "outputs": [
        {
          "output_type": "execute_result",
          "data": {
            "text/plain": [
              "True"
            ]
          },
          "metadata": {
            "tags": []
          },
          "execution_count": 164
        }
      ]
    },
    {
      "cell_type": "code",
      "metadata": {
        "id": "Yk4050HVyPkS",
        "colab_type": "code",
        "outputId": "b241d8c6-a6c2-489c-b72a-6e2c2a6078da",
        "colab": {
          "base_uri": "https://localhost:8080/",
          "height": 34
        }
      },
      "source": [
        "str3 = \"python\"     # lower case to upper case\n",
        "str3.upper()        # we get lower case o/p even after changing into upper case because it is immutable\n",
        "print(str3)"
      ],
      "execution_count": 0,
      "outputs": [
        {
          "output_type": "stream",
          "text": [
            "python\n"
          ],
          "name": "stdout"
        }
      ]
    },
    {
      "cell_type": "code",
      "metadata": {
        "id": "CDQ8pH_zye2_",
        "colab_type": "code",
        "outputId": "9b809b96-49c2-4f37-e164-50821f65d74f",
        "colab": {
          "base_uri": "https://localhost:8080/",
          "height": 34
        }
      },
      "source": [
        "str3 = str3.upper()        # here we get upper case because we assigned a new value to str3\n",
        "print(str3)              # new ref new obj is created ..lower case python is removed but not replaced"
      ],
      "execution_count": 0,
      "outputs": [
        {
          "output_type": "stream",
          "text": [
            "PYTHON\n"
          ],
          "name": "stdout"
        }
      ]
    },
    {
      "cell_type": "code",
      "metadata": {
        "id": "9mKD8UZZzJGx",
        "colab_type": "code",
        "outputId": "29f329ec-57bd-4462-ef29-e72982e9af7a",
        "colab": {
          "base_uri": "https://localhost:8080/",
          "height": 34
        }
      },
      "source": [
        "str3.isupper()          # to check if it is lower--name.islower()\n",
        "                                           # upper--name.isupper()"
      ],
      "execution_count": 0,
      "outputs": [
        {
          "output_type": "execute_result",
          "data": {
            "text/plain": [
              "True"
            ]
          },
          "metadata": {
            "tags": []
          },
          "execution_count": 172
        }
      ]
    },
    {
      "cell_type": "code",
      "metadata": {
        "id": "7AH7AIEVzexO",
        "colab_type": "code",
        "colab": {}
      },
      "source": [
        "help(str)"
      ],
      "execution_count": 0,
      "outputs": []
    },
    {
      "cell_type": "code",
      "metadata": {
        "id": "gdwxQZ9hzxre",
        "colab_type": "code",
        "outputId": "7c3bf6ad-1518-461e-e8b2-9db988131c56",
        "colab": {
          "base_uri": "https://localhost:8080/",
          "height": 34
        }
      },
      "source": [
        "def digit_count(string):\n",
        "  sum = 0\n",
        "  for i in string:\n",
        "    if i.isdigit():\n",
        "      sum = sum + int(i)\n",
        "  return sum\n",
        "digit_count(\"application3099\")"
      ],
      "execution_count": 0,
      "outputs": [
        {
          "output_type": "execute_result",
          "data": {
            "text/plain": [
              "21"
            ]
          },
          "metadata": {
            "tags": []
          },
          "execution_count": 195
        }
      ]
    },
    {
      "cell_type": "code",
      "metadata": {
        "id": "NA00t30I1Ytu",
        "colab_type": "code",
        "outputId": "d785c741-fb31-41ae-93a1-8beec911f655",
        "colab": {
          "base_uri": "https://localhost:8080/",
          "height": 34
        }
      },
      "source": [
        "# without using isdigit method nd by using ascii values\n",
        "def digit_count(string):\n",
        "  sum = 0\n",
        "  for i in string:\n",
        "    if i>chr(47) and i<chr(58):\n",
        "      sum = sum + int(i)\n",
        "  return sum\n",
        "digit_count(\"mouni3099\")"
      ],
      "execution_count": 0,
      "outputs": [
        {
          "output_type": "execute_result",
          "data": {
            "text/plain": [
              "21"
            ]
          },
          "metadata": {
            "tags": []
          },
          "execution_count": 198
        }
      ]
    },
    {
      "cell_type": "code",
      "metadata": {
        "id": "9C2Smbek5Cex",
        "colab_type": "code",
        "colab": {}
      },
      "source": [
        "n = \"snow storm\"\n",
        "n[5]='X'\n",
        "print(n)"
      ],
      "execution_count": 0,
      "outputs": []
    },
    {
      "cell_type": "code",
      "metadata": {
        "id": "1sxBm7n_DwWa",
        "colab_type": "code",
        "colab": {}
      },
      "source": [
        ""
      ],
      "execution_count": 0,
      "outputs": []
    }
  ]
}